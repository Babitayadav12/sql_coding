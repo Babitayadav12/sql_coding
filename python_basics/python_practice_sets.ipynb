{
 "cells": [
  {
   "cell_type": "markdown",
   "id": "07b32c97",
   "metadata": {},
   "source": [
    "# # Python practice exercise"
   ]
  },
  {
   "cell_type": "code",
   "execution_count": 1,
   "id": "755202e7",
   "metadata": {},
   "outputs": [
    {
     "name": "stdout",
     "output_type": "stream",
     "text": [
      "python practice\n"
     ]
    }
   ],
   "source": [
    "print(\"python practice\")"
   ]
  },
  {
   "cell_type": "code",
   "execution_count": 2,
   "id": "898cf30b",
   "metadata": {},
   "outputs": [],
   "source": [
    "a = 4"
   ]
  },
  {
   "cell_type": "code",
   "execution_count": 3,
   "id": "bd3502d8",
   "metadata": {},
   "outputs": [],
   "source": [
    "b = 2"
   ]
  },
  {
   "cell_type": "code",
   "execution_count": 5,
   "id": "e1e81e0c",
   "metadata": {},
   "outputs": [],
   "source": [
    "c=a*b"
   ]
  },
  {
   "cell_type": "code",
   "execution_count": 10,
   "id": "f31692e8",
   "metadata": {},
   "outputs": [
    {
     "name": "stdout",
     "output_type": "stream",
     "text": [
      "multiplication is 8\n"
     ]
    }
   ],
   "source": [
    "print(\"multiplication is\", c)"
   ]
  },
  {
   "cell_type": "code",
   "execution_count": 55,
   "id": "72f9e051",
   "metadata": {},
   "outputs": [
    {
     "name": "stdout",
     "output_type": "stream",
     "text": [
      "put value of x43\n",
      "put value of y67\n",
      "your multiplication of 43 and 67 is : 2881\n"
     ]
    }
   ],
   "source": [
    "x = int(input(\"put value of x\"))\n",
    "y = int(input(\"put value of y\"))\n",
    "z = x*y\n",
    "print(\"your multiplication of\", x , \"and\", y, \"is :\", z)"
   ]
  },
  {
   "cell_type": "code",
   "execution_count": 88,
   "id": "2b6e67c8",
   "metadata": {},
   "outputs": [],
   "source": [
    "def put():\n",
    "    x = int(input(\"put value of x\"))\n",
    "    y = int(input(\"put value of y\"))\n",
    "    z = x*y\n",
    "    print(\"your multiplication of\", x , \"and\", y, \"is :\", z,z*z)\n",
    "    return z"
   ]
  },
  {
   "cell_type": "code",
   "execution_count": 89,
   "id": "77c94480",
   "metadata": {},
   "outputs": [
    {
     "name": "stdout",
     "output_type": "stream",
     "text": [
      "put value of x12\n",
      "put value of y12\n",
      "your multiplication of 12 and 12 is : 144 20736\n"
     ]
    },
    {
     "data": {
      "text/plain": [
       "144"
      ]
     },
     "execution_count": 89,
     "metadata": {},
     "output_type": "execute_result"
    }
   ],
   "source": [
    "put()"
   ]
  },
  {
   "cell_type": "code",
   "execution_count": 90,
   "id": "ec31b011",
   "metadata": {},
   "outputs": [],
   "source": [
    "def take(a):\n",
    "    c=a+(a*a)\n",
    "    return print(\"sum is :\",c)"
   ]
  },
  {
   "cell_type": "code",
   "execution_count": 91,
   "id": "b985dbdc",
   "metadata": {},
   "outputs": [
    {
     "name": "stdout",
     "output_type": "stream",
     "text": [
      "put value of x12\n",
      "put value of y12\n",
      "your multiplication of 12 and 12 is : 144 20736\n",
      "sum is : 20880\n"
     ]
    }
   ],
   "source": [
    "take(put())"
   ]
  },
  {
   "cell_type": "code",
   "execution_count": 92,
   "id": "77da5cf9",
   "metadata": {},
   "outputs": [
    {
     "data": {
      "text/plain": [
       "20880"
      ]
     },
     "execution_count": 92,
     "metadata": {},
     "output_type": "execute_result"
    }
   ],
   "source": [
    "20736+144"
   ]
  },
  {
   "cell_type": "code",
   "execution_count": 35,
   "id": "340d5f8a",
   "metadata": {},
   "outputs": [],
   "source": [
    "arr1 = [15, 35, 63, 44, 12, 24]"
   ]
  },
  {
   "cell_type": "code",
   "execution_count": 36,
   "id": "15759857",
   "metadata": {},
   "outputs": [],
   "source": [
    "arr1.sort()"
   ]
  },
  {
   "cell_type": "code",
   "execution_count": 37,
   "id": "8164ed7d",
   "metadata": {},
   "outputs": [
    {
     "data": {
      "text/plain": [
       "[12, 15, 24, 35, 44, 63]"
      ]
     },
     "execution_count": 37,
     "metadata": {},
     "output_type": "execute_result"
    }
   ],
   "source": [
    "A=list[]rr1"
   ]
  },
  {
   "cell_type": "code",
   "execution_count": 38,
   "id": "934b829e",
   "metadata": {},
   "outputs": [
    {
     "name": "stdout",
     "output_type": "stream",
     "text": [
      "12\n",
      "15\n",
      "24\n",
      "35\n",
      "44\n",
      "63\n"
     ]
    }
   ],
   "source": [
    "for i in arr1:\n",
    "    print(i)"
   ]
  },
  {
   "cell_type": "code",
   "execution_count": 10,
   "id": "32fe5a29",
   "metadata": {},
   "outputs": [
    {
     "data": {
      "text/plain": [
       "(6, 1)"
      ]
     },
     "execution_count": 10,
     "metadata": {},
     "output_type": "execute_result"
    }
   ],
   "source": [
    "max(arr1),min(arr1)"
   ]
  },
  {
   "cell_type": "code",
   "execution_count": 176,
   "id": "9486d060",
   "metadata": {},
   "outputs": [],
   "source": [
    "def solution(A):\n",
    "    arr1=A\n",
    "    arr1.sort()\n",
    "    n=0\n",
    "    for i in range(min(arr1),max(arr1)+1,1):\n",
    "        if arr1.count(i)==0:\n",
    "            if i==0 or i<0:\n",
    "                return 1\n",
    "            else:\n",
    "                return i\n",
    "        n=n+1\n",
    "        if n==len(arr1):\n",
    "            if i+1==0 or i+1<0:\n",
    "                return 1\n",
    "            else:\n",
    "                return i+1"
   ]
  },
  {
   "cell_type": "code",
   "execution_count": 179,
   "id": "46793a75",
   "metadata": {},
   "outputs": [],
   "source": [
    "arr1=[1,2,3,4,5,9]"
   ]
  },
  {
   "cell_type": "code",
   "execution_count": 180,
   "id": "01b1a552",
   "metadata": {},
   "outputs": [
    {
     "data": {
      "text/plain": [
       "6"
      ]
     },
     "execution_count": 180,
     "metadata": {},
     "output_type": "execute_result"
    }
   ],
   "source": [
    "solution(arr1)"
   ]
  },
  {
   "cell_type": "code",
   "execution_count": 146,
   "id": "2c9e4cdb",
   "metadata": {},
   "outputs": [
    {
     "name": "stdout",
     "output_type": "stream",
     "text": [
      "1\n",
      "2\n",
      "3\n"
     ]
    }
   ],
   "source": [
    "for i in range(min(arr1),max(arr1)+1,1):\n",
    "    print(i)"
   ]
  },
  {
   "cell_type": "code",
   "execution_count": 107,
   "id": "1bded26f",
   "metadata": {},
   "outputs": [
    {
     "ename": "SyntaxError",
     "evalue": "incomplete input (1733617191.py, line 1)",
     "output_type": "error",
     "traceback": [
      "\u001b[1;36m  Cell \u001b[1;32mIn[107], line 1\u001b[1;36m\u001b[0m\n\u001b[1;33m    for j in arr1:\u001b[0m\n\u001b[1;37m                  ^\u001b[0m\n\u001b[1;31mSyntaxError\u001b[0m\u001b[1;31m:\u001b[0m incomplete input\n"
     ]
    }
   ],
   "source": [
    "for j in arr1:\n",
    "    print(J=)"
   ]
  },
  {
   "cell_type": "code",
   "execution_count": 87,
   "id": "5d77d173",
   "metadata": {},
   "outputs": [
    {
     "data": {
      "text/plain": [
       "7"
      ]
     },
     "execution_count": 87,
     "metadata": {},
     "output_type": "execute_result"
    }
   ],
   "source": [
    "max(arr1)"
   ]
  },
  {
   "cell_type": "code",
   "execution_count": null,
   "id": "f921e484",
   "metadata": {},
   "outputs": [],
   "source": []
  },
  {
   "cell_type": "code",
   "execution_count": null,
   "id": "ed7bf72e",
   "metadata": {},
   "outputs": [],
   "source": []
  },
  {
   "cell_type": "code",
   "execution_count": null,
   "id": "e4f1c1e1",
   "metadata": {},
   "outputs": [],
   "source": []
  },
  {
   "cell_type": "code",
   "execution_count": null,
   "id": "ffaacc07",
   "metadata": {},
   "outputs": [],
   "source": []
  },
  {
   "cell_type": "code",
   "execution_count": null,
   "id": "1ccdaff7",
   "metadata": {},
   "outputs": [],
   "source": []
  },
  {
   "cell_type": "code",
   "execution_count": null,
   "id": "45f89d30",
   "metadata": {},
   "outputs": [],
   "source": []
  },
  {
   "cell_type": "code",
   "execution_count": null,
   "id": "b5cc53dc",
   "metadata": {},
   "outputs": [],
   "source": []
  },
  {
   "cell_type": "code",
   "execution_count": null,
   "id": "0aa4f120",
   "metadata": {},
   "outputs": [],
   "source": []
  },
  {
   "cell_type": "code",
   "execution_count": null,
   "id": "12954a5e",
   "metadata": {},
   "outputs": [],
   "source": []
  },
  {
   "cell_type": "code",
   "execution_count": null,
   "id": "937cb194",
   "metadata": {},
   "outputs": [],
   "source": []
  }
 ],
 "metadata": {
  "kernelspec": {
   "display_name": "Python 3 (ipykernel)",
   "language": "python",
   "name": "python3"
  },
  "language_info": {
   "codemirror_mode": {
    "name": "ipython",
    "version": 3
   },
   "file_extension": ".py",
   "mimetype": "text/x-python",
   "name": "python",
   "nbconvert_exporter": "python",
   "pygments_lexer": "ipython3",
   "version": "3.11.4"
  }
 },
 "nbformat": 4,
 "nbformat_minor": 5
}
