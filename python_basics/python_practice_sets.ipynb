{
 "cells": [
  {
   "cell_type": "markdown",
   "id": "07b32c97",
   "metadata": {},
   "source": [
    "# # Python practice exercise"
   ]
  },
  {
   "cell_type": "code",
   "execution_count": 1,
   "id": "755202e7",
   "metadata": {},
   "outputs": [
    {
     "name": "stdout",
     "output_type": "stream",
     "text": [
      "python practice\n"
     ]
    }
   ],
   "source": [
    "print(\"python practice\")"
   ]
  },
  {
   "cell_type": "code",
   "execution_count": 2,
   "id": "898cf30b",
   "metadata": {},
   "outputs": [],
   "source": [
    "a = 4"
   ]
  },
  {
   "cell_type": "code",
   "execution_count": 3,
   "id": "bd3502d8",
   "metadata": {},
   "outputs": [],
   "source": [
    "b = 2"
   ]
  },
  {
   "cell_type": "code",
   "execution_count": 4,
   "id": "e1e81e0c",
   "metadata": {},
   "outputs": [],
   "source": [
    "c=a*b"
   ]
  },
  {
   "cell_type": "code",
   "execution_count": 5,
   "id": "f31692e8",
   "metadata": {},
   "outputs": [
    {
     "name": "stdout",
     "output_type": "stream",
     "text": [
      "multiplication is 8\n"
     ]
    }
   ],
   "source": [
    "print(\"multiplication is\", c)"
   ]
  },
  {
   "cell_type": "code",
   "execution_count": 6,
   "id": "72f9e051",
   "metadata": {},
   "outputs": [],
   "source": [
    "x = int(input(\"put value of x\"))\n",
    "y = int(input(\"put value of y\"))\n",
    "z = x*y\n",
    "print(\"your multiplication of\", x , \"and\", y, \"is :\", z)"
   ]
  },
  {
   "cell_type": "code",
   "execution_count": null,
   "id": "2b6e67c8",
   "metadata": {},
   "outputs": [],
   "source": [
    "def put():\n",
    "    x = int(input(\"put value of x\"))\n",
    "    y = int(input(\"put value of y\"))\n",
    "    z = x*y\n",
    "    print(\"your multiplication of\", x , \"and\", y, \"is :\", z,z*z)\n",
    "    return z"
   ]
  },
  {
   "cell_type": "code",
   "execution_count": null,
   "id": "77c94480",
   "metadata": {},
   "outputs": [
    {
     "name": "stdout",
     "output_type": "stream",
     "text": [
      "put value of x12\n",
      "put value of y12\n",
      "your multiplication of 12 and 12 is : 144 20736\n"
     ]
    },
    {
     "data": {
      "text/plain": [
       "144"
      ]
     },
     "execution_count": 89,
     "metadata": {},
     "output_type": "execute_result"
    }
   ],
   "source": [
    "put()"
   ]
  },
  {
   "cell_type": "code",
   "execution_count": null,
   "id": "ec31b011",
   "metadata": {},
   "outputs": [],
   "source": [
    "def take(a):\n",
    "    c=a+(a*a)\n",
    "    return print(\"sum is :\",c)"
   ]
  },
  {
   "cell_type": "code",
   "execution_count": null,
   "id": "b985dbdc",
   "metadata": {},
   "outputs": [
    {
     "name": "stdout",
     "output_type": "stream",
     "text": [
      "put value of x12\n",
      "put value of y12\n",
      "your multiplication of 12 and 12 is : 144 20736\n",
      "sum is : 20880\n"
     ]
    }
   ],
   "source": [
    "take(put())"
   ]
  },
  {
   "cell_type": "code",
   "execution_count": null,
   "id": "77da5cf9",
   "metadata": {},
   "outputs": [
    {
     "data": {
      "text/plain": [
       "20880"
      ]
     },
     "execution_count": 92,
     "metadata": {},
     "output_type": "execute_result"
    }
   ],
   "source": [
    "20736+144"
   ]
  },
  {
   "cell_type": "code",
   "execution_count": null,
   "id": "340d5f8a",
   "metadata": {},
   "outputs": [],
   "source": [
    "arr1 = [15, 35, 63, 44, 12, 24]"
   ]
  },
  {
   "cell_type": "code",
   "execution_count": null,
   "id": "15759857",
   "metadata": {},
   "outputs": [],
   "source": [
    "arr1.sort()"
   ]
  },
  {
   "cell_type": "code",
   "execution_count": null,
   "id": "8164ed7d",
   "metadata": {},
   "outputs": [
    {
     "data": {
      "text/plain": [
       "[12, 15, 24, 35, 44, 63]"
      ]
     },
     "execution_count": 37,
     "metadata": {},
     "output_type": "execute_result"
    }
   ],
   "source": [
    "A=list[]rr1"
   ]
  },
  {
   "cell_type": "code",
   "execution_count": null,
   "id": "934b829e",
   "metadata": {},
   "outputs": [
    {
     "name": "stdout",
     "output_type": "stream",
     "text": [
      "12\n",
      "15\n",
      "24\n",
      "35\n",
      "44\n",
      "63\n"
     ]
    }
   ],
   "source": [
    "for i in arr1:\n",
    "    print(i)"
   ]
  },
  {
   "cell_type": "code",
   "execution_count": null,
   "id": "32fe5a29",
   "metadata": {},
   "outputs": [
    {
     "data": {
      "text/plain": [
       "(6, 1)"
      ]
     },
     "execution_count": 10,
     "metadata": {},
     "output_type": "execute_result"
    }
   ],
   "source": [
    "max(arr1),min(arr1)"
   ]
  },
  {
   "cell_type": "code",
   "execution_count": null,
   "id": "9486d060",
   "metadata": {},
   "outputs": [],
   "source": [
    "def solution(A):\n",
    "    arr1=A\n",
    "    arr1.sort()\n",
    "    n=0\n",
    "    for i in range(min(arr1),max(arr1)+1,1):\n",
    "        if arr1.count(i)==0:\n",
    "            if i==0 or i<0:\n",
    "                return 1\n",
    "            else:\n",
    "                return i\n",
    "        n=n+1\n",
    "        if n==len(arr1):\n",
    "            if i+1==0 or i+1<0:\n",
    "                return 1\n",
    "            else:\n",
    "                return i+1"
   ]
  },
  {
   "cell_type": "code",
   "execution_count": null,
   "id": "46793a75",
   "metadata": {},
   "outputs": [],
   "source": [
    "arr1=[1,2,3,4,5,9]"
   ]
  },
  {
   "cell_type": "code",
   "execution_count": null,
   "id": "01b1a552",
   "metadata": {},
   "outputs": [
    {
     "data": {
      "text/plain": [
       "6"
      ]
     },
     "execution_count": 180,
     "metadata": {},
     "output_type": "execute_result"
    }
   ],
   "source": [
    "solution(arr1)"
   ]
  },
  {
   "cell_type": "code",
   "execution_count": null,
   "id": "2c9e4cdb",
   "metadata": {},
   "outputs": [
    {
     "name": "stdout",
     "output_type": "stream",
     "text": [
      "1\n",
      "2\n",
      "3\n"
     ]
    }
   ],
   "source": [
    "for i in range(min(arr1),max(arr1)+1,1):\n",
    "    print(i)"
   ]
  },
  {
   "cell_type": "code",
   "execution_count": null,
   "id": "1bded26f",
   "metadata": {},
   "outputs": [
    {
     "ename": "SyntaxError",
     "evalue": "incomplete input (1733617191.py, line 1)",
     "output_type": "error",
     "traceback": [
      "\u001b[1;36m  Cell \u001b[1;32mIn[107], line 1\u001b[1;36m\u001b[0m\n\u001b[1;33m    for j in arr1:\u001b[0m\n\u001b[1;37m                  ^\u001b[0m\n\u001b[1;31mSyntaxError\u001b[0m\u001b[1;31m:\u001b[0m incomplete input\n"
     ]
    }
   ],
   "source": [
    "for j in arr1:\n",
    "    print(J=)"
   ]
  },
  {
   "cell_type": "code",
   "execution_count": null,
   "id": "5d77d173",
   "metadata": {},
   "outputs": [
    {
     "data": {
      "text/plain": [
       "7"
      ]
     },
     "execution_count": 87,
     "metadata": {},
     "output_type": "execute_result"
    }
   ],
   "source": [
    "max(arr1)"
   ]
  },
  {
   "cell_type": "code",
   "execution_count": null,
   "id": "f921e484",
   "metadata": {},
   "outputs": [
    {
     "data": {
      "text/plain": [
       "20"
      ]
     },
     "execution_count": 2,
     "metadata": {},
     "output_type": "execute_result"
    }
   ],
   "source": [
    "a=4\n",
    "b=5\n",
    "a*b"
   ]
  },
  {
   "cell_type": "code",
   "execution_count": 7,
   "id": "ed7bf72e",
   "metadata": {},
   "outputs": [],
   "source": [
    "names = ['ram','shyam','sita','gita']"
   ]
  },
  {
   "cell_type": "code",
   "execution_count": 9,
   "id": "e4f1c1e1",
   "metadata": {},
   "outputs": [
    {
     "data": {
      "text/plain": [
       "['ram', 'shyam', 'sita', 'gita']"
      ]
     },
     "execution_count": 9,
     "metadata": {},
     "output_type": "execute_result"
    }
   ],
   "source": [
    "names"
   ]
  },
  {
   "cell_type": "code",
   "execution_count": 13,
   "id": "ffaacc07",
   "metadata": {},
   "outputs": [
    {
     "data": {
      "text/plain": [
       "'ram'"
      ]
     },
     "execution_count": 13,
     "metadata": {},
     "output_type": "execute_result"
    }
   ],
   "source": [
    "names[0]"
   ]
  },
  {
   "cell_type": "code",
   "execution_count": 17,
   "id": "b5cc53dc",
   "metadata": {},
   "outputs": [
    {
     "data": {
      "text/plain": [
       "'a'"
      ]
     },
     "execution_count": 17,
     "metadata": {},
     "output_type": "execute_result"
    }
   ],
   "source": [
    "names[2][3]"
   ]
  },
  {
   "cell_type": "code",
   "execution_count": null,
   "id": "0aa4f120",
   "metadata": {},
   "outputs": [],
   "source": [
    "names[2]="
   ]
  },
  {
   "cell_type": "code",
   "execution_count": 16,
   "id": "12954a5e",
   "metadata": {},
   "outputs": [
    {
     "data": {
      "text/plain": [
       "'a'"
      ]
     },
     "execution_count": 16,
     "metadata": {},
     "output_type": "execute_result"
    }
   ],
   "source": [
    "x='sita'\n",
    "x[3]"
   ]
  },
  {
   "cell_type": "code",
   "execution_count": 79,
   "id": "937cb194",
   "metadata": {},
   "outputs": [],
   "source": [
    "goa=['smart',names]"
   ]
  },
  {
   "cell_type": "code",
   "execution_count": 80,
   "id": "9a86e532-77ed-4017-95e7-0267a979b218",
   "metadata": {},
   "outputs": [
    {
     "data": {
      "text/plain": [
       "['smart', ['ram', 'shyam', 'sita', 'gita', 'yunay']]"
      ]
     },
     "execution_count": 80,
     "metadata": {},
     "output_type": "execute_result"
    }
   ],
   "source": [
    "goa"
   ]
  },
  {
   "cell_type": "code",
   "execution_count": 81,
   "id": "25b1f5a0-eeb1-4ec3-8fe6-1096b068ac2d",
   "metadata": {},
   "outputs": [],
   "source": [
    "goa.extend([23,45,2,67,899])"
   ]
  },
  {
   "cell_type": "code",
   "execution_count": 82,
   "id": "2ee9763b-6506-42a1-91ef-eb9a14d90e0e",
   "metadata": {},
   "outputs": [
    {
     "data": {
      "text/plain": [
       "['smart', ['ram', 'shyam', 'sita', 'gita', 'yunay'], 23, 45, 2, 67, 899]"
      ]
     },
     "execution_count": 82,
     "metadata": {},
     "output_type": "execute_result"
    }
   ],
   "source": [
    "goa"
   ]
  },
  {
   "cell_type": "code",
   "execution_count": 78,
   "id": "1361a63f-1776-42ac-890d-605a125432e2",
   "metadata": {},
   "outputs": [],
   "source": [
    "goa.clear()"
   ]
  },
  {
   "cell_type": "code",
   "execution_count": 67,
   "id": "f8d1cf3f-8953-4936-8e95-b84c01681731",
   "metadata": {},
   "outputs": [],
   "source": []
  },
  {
   "cell_type": "code",
   "execution_count": 68,
   "id": "796f37f5-c309-4b17-87a0-dfaf5b95013b",
   "metadata": {},
   "outputs": [
    {
     "data": {
      "text/plain": [
       "['smart', 'yunay', ['ram', 'shyam', 'sita', 'gita', 'yunay']]"
      ]
     },
     "execution_count": 68,
     "metadata": {},
     "output_type": "execute_result"
    }
   ],
   "source": []
  },
  {
   "cell_type": "code",
   "execution_count": null,
   "id": "781f1242-0258-4bb7-8120-5095eaba4d4c",
   "metadata": {},
   "outputs": [],
   "source": []
  }
 ],
 "metadata": {
  "kernelspec": {
   "display_name": "Python 3 (ipykernel)",
   "language": "python",
   "name": "python3"
  },
  "language_info": {
   "codemirror_mode": {
    "name": "ipython",
    "version": 3
   },
   "file_extension": ".py",
   "mimetype": "text/x-python",
   "name": "python",
   "nbconvert_exporter": "python",
   "pygments_lexer": "ipython3",
   "version": "3.11.6"
  }
 },
 "nbformat": 4,
 "nbformat_minor": 5
}
