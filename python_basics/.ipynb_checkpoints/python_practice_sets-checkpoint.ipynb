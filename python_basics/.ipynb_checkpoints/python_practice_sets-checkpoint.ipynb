{
 "cells": [
  {
   "cell_type": "markdown",
   "id": "07b32c97",
   "metadata": {},
   "source": [
    "# # Python practice exercise"
   ]
  },
  {
   "cell_type": "code",
   "execution_count": 1,
   "id": "755202e7",
   "metadata": {},
   "outputs": [
    {
     "name": "stdout",
     "output_type": "stream",
     "text": [
      "python practice\n"
     ]
    }
   ],
   "source": [
    "print(\"python practice\")"
   ]
  },
  {
   "cell_type": "code",
   "execution_count": 2,
   "id": "898cf30b",
   "metadata": {},
   "outputs": [],
   "source": [
    "a = 4"
   ]
  },
  {
   "cell_type": "code",
   "execution_count": 3,
   "id": "bd3502d8",
   "metadata": {},
   "outputs": [],
   "source": [
    "b = 2"
   ]
  },
  {
   "cell_type": "code",
   "execution_count": 5,
   "id": "e1e81e0c",
   "metadata": {},
   "outputs": [],
   "source": [
    "c=a*b"
   ]
  },
  {
   "cell_type": "code",
   "execution_count": 10,
   "id": "f31692e8",
   "metadata": {},
   "outputs": [
    {
     "name": "stdout",
     "output_type": "stream",
     "text": [
      "multiplication is 8\n"
     ]
    }
   ],
   "source": [
    "print(\"multiplication is\", c)"
   ]
  },
  {
   "cell_type": "code",
   "execution_count": 55,
   "id": "72f9e051",
   "metadata": {},
   "outputs": [
    {
     "name": "stdout",
     "output_type": "stream",
     "text": [
      "put value of x43\n",
      "put value of y67\n",
      "your multiplication of 43 and 67 is : 2881\n"
     ]
    }
   ],
   "source": [
    "x = int(input(\"put value of x\"))\n",
    "y = int(input(\"put value of y\"))\n",
    "z = x*y\n",
    "print(\"your multiplication of\", x , \"and\", y, \"is :\", z)"
   ]
  },
  {
   "cell_type": "code",
   "execution_count": 88,
   "id": "2b6e67c8",
   "metadata": {},
   "outputs": [],
   "source": [
    "def put():\n",
    "    x = int(input(\"put value of x\"))\n",
    "    y = int(input(\"put value of y\"))\n",
    "    z = x*y\n",
    "    print(\"your multiplication of\", x , \"and\", y, \"is :\", z,z*z)\n",
    "    return z"
   ]
  },
  {
   "cell_type": "code",
   "execution_count": 89,
   "id": "77c94480",
   "metadata": {},
   "outputs": [
    {
     "name": "stdout",
     "output_type": "stream",
     "text": [
      "put value of x12\n",
      "put value of y12\n",
      "your multiplication of 12 and 12 is : 144 20736\n"
     ]
    },
    {
     "data": {
      "text/plain": [
       "144"
      ]
     },
     "execution_count": 89,
     "metadata": {},
     "output_type": "execute_result"
    }
   ],
   "source": [
    "put()"
   ]
  },
  {
   "cell_type": "code",
   "execution_count": 90,
   "id": "ec31b011",
   "metadata": {},
   "outputs": [],
   "source": [
    "def take(a):\n",
    "    c=a+(a*a)\n",
    "    return print(\"sum is :\",c)"
   ]
  },
  {
   "cell_type": "code",
   "execution_count": 91,
   "id": "b985dbdc",
   "metadata": {},
   "outputs": [
    {
     "name": "stdout",
     "output_type": "stream",
     "text": [
      "put value of x12\n",
      "put value of y12\n",
      "your multiplication of 12 and 12 is : 144 20736\n",
      "sum is : 20880\n"
     ]
    }
   ],
   "source": [
    "take(put())"
   ]
  },
  {
   "cell_type": "code",
   "execution_count": 92,
   "id": "77da5cf9",
   "metadata": {},
   "outputs": [
    {
     "data": {
      "text/plain": [
       "20880"
      ]
     },
     "execution_count": 92,
     "metadata": {},
     "output_type": "execute_result"
    }
   ],
   "source": [
    "20736+144"
   ]
  },
  {
   "cell_type": "code",
   "execution_count": null,
   "id": "340d5f8a",
   "metadata": {},
   "outputs": [],
   "source": []
  }
 ],
 "metadata": {
  "kernelspec": {
   "display_name": "Python 3 (ipykernel)",
   "language": "python",
   "name": "python3"
  },
  "language_info": {
   "codemirror_mode": {
    "name": "ipython",
    "version": 3
   },
   "file_extension": ".py",
   "mimetype": "text/x-python",
   "name": "python",
   "nbconvert_exporter": "python",
   "pygments_lexer": "ipython3",
   "version": "3.11.4"
  }
 },
 "nbformat": 4,
 "nbformat_minor": 5
}
