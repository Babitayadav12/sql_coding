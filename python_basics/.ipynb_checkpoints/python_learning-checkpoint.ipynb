{
 "cells": [
  {
   "cell_type": "markdown",
   "id": "a732dcef-8227-4134-8a1e-2688e52b573f",
   "metadata": {},
   "source": [
    "#### 16/10/23"
   ]
  },
  {
   "cell_type": "raw",
   "id": "3397004b-881e-4b12-ae1d-b3a95719477b",
   "metadata": {},
   "source": [
    "list is mutabel means we can change the values in the list.\n",
    "\n",
    "I learnt operations on lists:\n",
    "\n",
    ".Append()= it will add value in the last\n",
    "\n",
    ".clear()=it will clear all the data (but if we want to clear only one value then we have to use \"remove\" function)\n",
    "\n",
    ".pop()= It will pop out the value w.r.t index value (0,1,2,3......) but if we will not mention\n",
    " the index value then last number will be pop out and that value will be deleted from the list.\n",
    "\n",
    "\n",
    ".extend([])= It will extend the list means if we want to add multiple values values then we can use it \n",
    "and it will add the numbers in the last.\n",
    "\n",
    ".insert()= values will be add in between (here we have to mention index value as well)\n",
    "\n",
    ".remove()= it will remove particular value\n",
    "\n",
    "if we want to remove multiple values then we will use: del <list name> [index values]\n",
    "\n",
    ".sort()= "
   ]
  },
  {
   "cell_type": "code",
   "execution_count": 14,
   "id": "97a59612-e03f-4b12-99d5-18e797f54af0",
   "metadata": {},
   "outputs": [],
   "source": [
    "#creating a list of numbers\n",
    "nums=[12,23,3132,432,42,55]"
   ]
  },
  {
   "cell_type": "code",
   "execution_count": 66,
   "id": "b8b47460-ed8f-4f3f-972f-6e6bb7fed698",
   "metadata": {},
   "outputs": [
    {
     "data": {
      "text/plain": [
       "[900, 24, 432, 42, 55, 67, 89, 900]"
      ]
     },
     "execution_count": 66,
     "metadata": {},
     "output_type": "execute_result"
    }
   ],
   "source": [
    "#nums [1] = 24\n",
    "nums"
   ]
  },
  {
   "cell_type": "code",
   "execution_count": 16,
   "id": "5702eff5-5857-48db-9a9a-1b3bd4ec86aa",
   "metadata": {},
   "outputs": [],
   "source": [
    "nums.append(321)"
   ]
  },
  {
   "cell_type": "code",
   "execution_count": 22,
   "id": "6ff5d91f-b037-435b-a631-37028575d463",
   "metadata": {},
   "outputs": [
    {
     "data": {
      "text/plain": [
       "[12, 23, 3132, 432, 42, 55, 321]"
      ]
     },
     "execution_count": 22,
     "metadata": {},
     "output_type": "execute_result"
    }
   ],
   "source": [
    "nums"
   ]
  },
  {
   "cell_type": "code",
   "execution_count": 24,
   "id": "22d2f7e0-a123-4e8b-bb48-d67ca43822e9",
   "metadata": {},
   "outputs": [],
   "source": [
    "nums.remove(12)"
   ]
  },
  {
   "cell_type": "code",
   "execution_count": 25,
   "id": "a2182d73-badc-4e39-9dcb-28ff3f5d7bc6",
   "metadata": {},
   "outputs": [
    {
     "data": {
      "text/plain": [
       "[23, 3132, 432, 42, 55, 321]"
      ]
     },
     "execution_count": 25,
     "metadata": {},
     "output_type": "execute_result"
    }
   ],
   "source": [
    "nums"
   ]
  },
  {
   "cell_type": "code",
   "execution_count": 26,
   "id": "6304d281-745b-46a2-bff7-8cbd029a1665",
   "metadata": {},
   "outputs": [
    {
     "data": {
      "text/plain": [
       "23"
      ]
     },
     "execution_count": 26,
     "metadata": {},
     "output_type": "execute_result"
    }
   ],
   "source": [
    "nums.pop(0)"
   ]
  },
  {
   "cell_type": "code",
   "execution_count": 27,
   "id": "2ed72368-192c-4805-b465-80429e67d473",
   "metadata": {},
   "outputs": [
    {
     "data": {
      "text/plain": [
       "[3132, 432, 42, 55, 321]"
      ]
     },
     "execution_count": 27,
     "metadata": {},
     "output_type": "execute_result"
    }
   ],
   "source": [
    "nums."
   ]
  },
  {
   "cell_type": "code",
   "execution_count": 28,
   "id": "0d3ae5d7-7c05-4a30-a48e-1ceb97f27c9f",
   "metadata": {},
   "outputs": [
    {
     "data": {
      "text/plain": [
       "321"
      ]
     },
     "execution_count": 28,
     "metadata": {},
     "output_type": "execute_result"
    }
   ],
   "source": [
    "# it will pop out the last number of the list and will delete it from the list\n",
    "nums.pop()"
   ]
  },
  {
   "cell_type": "code",
   "execution_count": null,
   "id": "69c04bf2-0f68-4785-adeb-c36e33223afd",
   "metadata": {},
   "outputs": [],
   "source": [
    "nums.extend([67,89])\n",
    "\n",
    "nums"
   ]
  },
  {
   "cell_type": "code",
   "execution_count": 35,
   "id": "8ba75499-19cb-4acd-8965-f86198201650",
   "metadata": {},
   "outputs": [],
   "source": [
    ".insert(0,900)\n"
   ]
  },
  {
   "cell_type": "code",
   "execution_count": 36,
   "id": "bc88c074-431b-4f2e-acaf-2245b31b0372",
   "metadata": {},
   "outputs": [
    {
     "data": {
      "text/plain": [
       "[900, 3132, 432, 42, 55, 67, 89, 900]"
      ]
     },
     "execution_count": 36,
     "metadata": {},
     "output_type": "execute_result"
    }
   ],
   "source": [
    "nums"
   ]
  },
  {
   "cell_type": "code",
   "execution_count": null,
   "id": "7147fac5-be28-4dde-95cf-3bb2e34eae5a",
   "metadata": {},
   "outputs": [],
   "source": [
    "# inserting a number into a list present in another list\n",
    "alpha= [22,33,44,55,66]\n",
    "beta= ['ab', 'bc',alpha]\n",
    "\n",
    "\n",
    "beta\n",
    "\n",
    "beta[2].append(99)\n",
    "\n",
    "beta\n",
    "\n",
    "beta[2].pop(2),beta[2].pop(3)"
   ]
  },
  {
   "cell_type": "code",
   "execution_count": 60,
   "id": "cf7eeaa6-59b8-4b69-9ff8-44f328bce373",
   "metadata": {},
   "outputs": [
    {
     "data": {
      "text/plain": [
       "['ab', 'bc', [22, 33, 55]]"
      ]
     },
     "execution_count": 60,
     "metadata": {},
     "output_type": "execute_result"
    }
   ],
   "source": [
    "beta"
   ]
  },
  {
   "cell_type": "code",
   "execution_count": 67,
   "id": "b118c209-84c2-4401-a42e-b0d8df61d042",
   "metadata": {},
   "outputs": [],
   "source": [
    "tup= (12,14,16,18)"
   ]
  },
  {
   "cell_type": "code",
   "execution_count": 68,
   "id": "e1ea88ea-0663-48b2-b639-93e2445d5dbb",
   "metadata": {},
   "outputs": [
    {
     "data": {
      "text/plain": [
       "(12, 14, 16, 18)"
      ]
     },
     "execution_count": 68,
     "metadata": {},
     "output_type": "execute_result"
    }
   ],
   "source": [
    "tup"
   ]
  },
  {
   "cell_type": "code",
   "execution_count": 69,
   "id": "2f6a3d27-3ff9-4591-b366-0bfad6ce1910",
   "metadata": {},
   "outputs": [
    {
     "data": {
      "text/plain": [
       "14"
      ]
     },
     "execution_count": 69,
     "metadata": {},
     "output_type": "execute_result"
    }
   ],
   "source": [
    "tup[1]"
   ]
  },
  {
   "cell_type": "code",
   "execution_count": 70,
   "id": "94b0c1ca-6d13-46d6-9df8-b5bf0315612e",
   "metadata": {},
   "outputs": [
    {
     "ename": "TypeError",
     "evalue": "'tuple' object does not support item assignment",
     "output_type": "error",
     "traceback": [
      "\u001b[1;31m---------------------------------------------------------------------------\u001b[0m",
      "\u001b[1;31mTypeError\u001b[0m                                 Traceback (most recent call last)",
      "Cell \u001b[1;32mIn[70], line 1\u001b[0m\n\u001b[1;32m----> 1\u001b[0m \u001b[43mtup\u001b[49m\u001b[43m[\u001b[49m\u001b[38;5;241;43m1\u001b[39;49m\u001b[43m]\u001b[49m\u001b[38;5;241m=\u001b[39m\u001b[38;5;241m15\u001b[39m\n",
      "\u001b[1;31mTypeError\u001b[0m: 'tuple' object does not support item assignment"
     ]
    }
   ],
   "source": [
    "tup[1]=15"
   ]
  },
  {
   "cell_type": "code",
   "execution_count": 13,
   "id": "d7eaff43-99d2-450f-9dbb-4da0178d0961",
   "metadata": {},
   "outputs": [],
   "source": [
    "nums=[25,36,95,14,12,26]"
   ]
  },
  {
   "cell_type": "code",
   "execution_count": 14,
   "id": "6c3cc95e-82f4-4b55-8690-49f578cac5f6",
   "metadata": {},
   "outputs": [
    {
     "data": {
      "text/plain": [
       "[25, 36, 95, 14, 12, 26]"
      ]
     },
     "execution_count": 14,
     "metadata": {},
     "output_type": "execute_result"
    }
   ],
   "source": [
    "nums\n"
   ]
  },
  {
   "cell_type": "code",
   "execution_count": 17,
   "id": "252f3b7c-cb41-4562-bcab-f7ba8e3b0f64",
   "metadata": {},
   "outputs": [
    {
     "data": {
      "text/plain": [
       "[12, 14, 25, 26, 36, 95]"
      ]
     },
     "execution_count": 17,
     "metadata": {},
     "output_type": "execute_result"
    }
   ],
   "source": [
    "sorted (nums)\n"
   ]
  },
  {
   "cell_type": "code",
   "execution_count": 12,
   "id": "f95a93d0-1eb7-4481-a818-dd0a10fc4dae",
   "metadata": {},
   "outputs": [
    {
     "data": {
      "text/plain": [
       "[12, 14, 25, 26, 36, 95]"
      ]
     },
     "execution_count": 12,
     "metadata": {},
     "output_type": "execute_result"
    }
   ],
   "source": [
    "nums"
   ]
  },
  {
   "cell_type": "code",
   "execution_count": 74,
   "id": "8c21f62b-9d15-4a57-9ace-d890c4ad1e81",
   "metadata": {},
   "outputs": [
    {
     "data": {
      "text/plain": [
       "[25, 36, 14, 12, 26]"
      ]
     },
     "execution_count": 74,
     "metadata": {},
     "output_type": "execute_result"
    }
   ],
   "source": [
    "nums"
   ]
  },
  {
   "cell_type": "markdown",
   "id": "0a21db50-e86d-4e8e-a225-14a381498f28",
   "metadata": {},
   "source": [
    "### create a list comprehension that squares each element in a list."
   ]
  },
  {
   "cell_type": "code",
   "execution_count": 1,
   "id": "4daae752-6bfe-45d2-a51e-635ab20751c5",
   "metadata": {},
   "outputs": [
    {
     "data": {
      "text/plain": [
       "[4, 16, 25, 36, 49, 64]"
      ]
     },
     "execution_count": 1,
     "metadata": {},
     "output_type": "execute_result"
    }
   ],
   "source": [
    "nums=[2,4,5,6,7,8]\n",
    "[i*i for i in nums]"
   ]
  },
  {
   "cell_type": "code",
   "execution_count": 125,
   "id": "577f06ea-9a0d-4e35-8768-c5427f164700",
   "metadata": {},
   "outputs": [
    {
     "data": {
      "text/plain": [
       "(3, 4, 5, 5)"
      ]
     },
     "execution_count": 125,
     "metadata": {},
     "output_type": "execute_result"
    }
   ],
   "source": [
    "# Tuple: it is immutable means we cannot modify it\n",
    "# open bracket has to be use ()\n",
    "num = (3,4,5,5)\n",
    "num"
   ]
  },
  {
   "cell_type": "code",
   "execution_count": 58,
   "id": "3a1a1c59-4928-4e0b-908a-b4d1dcf8476e",
   "metadata": {},
   "outputs": [
    {
     "data": {
      "text/plain": [
       "1"
      ]
     },
     "execution_count": 58,
     "metadata": {},
     "output_type": "execute_result"
    }
   ],
   "source": [
    "num.count(3)"
   ]
  },
  {
   "cell_type": "code",
   "execution_count": 127,
   "id": "11be1483-c0ac-44c1-9322-2fd20cb314c5",
   "metadata": {},
   "outputs": [
    {
     "data": {
      "text/plain": [
       "{3, 4, 5, 'fsdf'}"
      ]
     },
     "execution_count": 127,
     "metadata": {},
     "output_type": "execute_result"
    }
   ],
   "source": [
    "# set : set is collection of unique elements. It will remove duplicate values and it doesn't support sequence.\n",
    "# curly brackets has to be use {} and set is mutable.\n",
    "num={3,4,5,5,5,5,'fsdf'}\n",
    "num"
   ]
  },
  {
   "cell_type": "code",
   "execution_count": 131,
   "id": "64b94eac-6b56-405c-ae1f-7333ef9a44b2",
   "metadata": {},
   "outputs": [
    {
     "data": {
      "text/plain": [
       "{1, 11, 34, 56, 78}"
      ]
     },
     "execution_count": 131,
     "metadata": {},
     "output_type": "execute_result"
    }
   ],
   "source": [
    "int= {34,56,78,11,1}\n",
    "int"
   ]
  },
  {
   "cell_type": "code",
   "execution_count": 66,
   "id": "b64b2ed9-7500-46f8-bf6c-9ded7dd4fee0",
   "metadata": {},
   "outputs": [
    {
     "data": {
      "text/plain": [
       "'fsdf'"
      ]
     },
     "execution_count": 66,
     "metadata": {},
     "output_type": "execute_result"
    }
   ],
   "source": [
    "num.pop()"
   ]
  },
  {
   "cell_type": "code",
   "execution_count": 190,
   "id": "803c587e-b1fd-4a4e-9f09-796dedba9b92",
   "metadata": {},
   "outputs": [],
   "source": [
    "names=['dinesh','riya','tiya','siya']\n",
    "age=[20,21,22,23]"
   ]
  },
  {
   "cell_type": "code",
   "execution_count": 191,
   "id": "a7ad83d6-3977-480e-95e4-3b616e263b8e",
   "metadata": {},
   "outputs": [
    {
     "data": {
      "text/plain": [
       "'dinesh'"
      ]
     },
     "execution_count": 191,
     "metadata": {},
     "output_type": "execute_result"
    }
   ],
   "source": [
    "names[0]"
   ]
  },
  {
   "cell_type": "code",
   "execution_count": 181,
   "id": "4a05d0fa-156f-4d40-9256-d38339ba4e41",
   "metadata": {},
   "outputs": [
    {
     "data": {
      "text/plain": [
       "{'dinesh': 20, 'riya': 21, 'tiya': 22, 'siya': 23}"
      ]
     },
     "execution_count": 181,
     "metadata": {},
     "output_type": "execute_result"
    }
   ],
   "source": [
    "data"
   ]
  },
  {
   "cell_type": "code",
   "execution_count": 192,
   "id": "2443b0f9-38e9-40b9-b614-3652c1e61b68",
   "metadata": {},
   "outputs": [],
   "source": [
    "dict1={\n",
    "  \"name\": \"John Doe\",\n",
    "  \"age\": 30,\n",
    "  \"city\": \"New York\",\n",
    "  \"email\": \"johndoe@example.com\",\n",
    "  \"is_student\": False,\n",
    "  \"hobbies\": [\"Reading\", \"Hiking\", \"Cooking\"],\n",
    "  \"address\": {\n",
    "    \"street\": \"123 Main St\",\n",
    "    \"zipcode\": \"10001\"\n",
    "  }\n",
    "}"
   ]
  },
  {
   "cell_type": "code",
   "execution_count": 203,
   "id": "a1394382-2432-4018-9035-20cb35e81e41",
   "metadata": {},
   "outputs": [],
   "source": [
    "dict1.update({'age':29})"
   ]
  },
  {
   "cell_type": "code",
   "execution_count": 212,
   "id": "8990e072-dcd8-42c7-b2c0-3c3c7ae63f66",
   "metadata": {},
   "outputs": [
    {
     "data": {
      "text/plain": [
       "{'name': 'John Doe',\n",
       " 'age': 29,\n",
       " 'city': 'New York',\n",
       " 'email': 'johndoe@example.com',\n",
       " 'is_student': False,\n",
       " 'hobbies': ['Reading', 'Hiking', 'Cooking'],\n",
       " 'address': {'street': '123 Main St', 'zipcode': '12340000000000001'}}"
      ]
     },
     "execution_count": 212,
     "metadata": {},
     "output_type": "execute_result"
    }
   ],
   "source": [
    "dict1"
   ]
  },
  {
   "cell_type": "code",
   "execution_count": 207,
   "id": "9042202d-7a50-4d33-8573-cb99e9478cff",
   "metadata": {},
   "outputs": [],
   "source": [
    "dict1.update({'address':{\"street\": \"123 Main St\",'zipcode': '123401'}})"
   ]
  },
  {
   "cell_type": "code",
   "execution_count": 211,
   "id": "de75a759-6e02-4b7b-844f-f967ddb884bf",
   "metadata": {},
   "outputs": [],
   "source": [
    "dict1.get('address').update({'zipcode': '12340000000000001'})"
   ]
  },
  {
   "cell_type": "code",
   "execution_count": null,
   "id": "83d256f1-4761-468d-9047-0bf9ed097aa7",
   "metadata": {},
   "outputs": [],
   "source": [
    "condition can be True or False"
   ]
  },
  {
   "cell_type": "code",
   "execution_count": null,
   "id": "7f126bf0-7536-4ed4-bc85-30ec2bdf6987",
   "metadata": {},
   "outputs": [],
   "source": [
    "if condition:\n",
    "    1.\n",
    "    2.\n",
    "    3.\n",
    "    4.\n",
    "else:\n",
    "    1.\n",
    "    2."
   ]
  },
  {
   "cell_type": "code",
   "execution_count": 115,
   "id": "89fa6304-bcd3-468d-9010-136a53940120",
   "metadata": {},
   "outputs": [
    {
     "name": "stdout",
     "output_type": "stream",
     "text": [
      "else condition worked\n"
     ]
    }
   ],
   "source": [
    "if a==5:\n",
    "    print(\"if condition worked\")\n",
    "else:\n",
    "    print(\"else condition worked\")"
   ]
  },
  {
   "attachments": {},
   "cell_type": "markdown",
   "id": "aa7b5f3c-388c-4829-84f0-0abfa907f299",
   "metadata": {},
   "source": [
    "a = 3\n",
    "if a>5:\n",
    "    print(\"if condition worked\")\n",
    "    print(\"hello\")\n",
    "elif a<5:\n",
    "    print(\"elid worked\")\n",
    "else:\n",
    "    print(\"else condition worked\")\n",
    "print(\"hello\")\n",
    "\n",
    "#### name"
   ]
  },
  {
   "cell_type": "code",
   "execution_count": null,
   "id": "5b579c0f-e373-4d81-8585-a24a2991e72f",
   "metadata": {},
   "outputs": [],
   "source": []
  }
 ],
 "metadata": {
  "kernelspec": {
   "display_name": "Python 3 (ipykernel)",
   "language": "python",
   "name": "python3"
  },
  "language_info": {
   "codemirror_mode": {
    "name": "ipython",
    "version": 3
   },
   "file_extension": ".py",
   "mimetype": "text/x-python",
   "name": "python",
   "nbconvert_exporter": "python",
   "pygments_lexer": "ipython3",
   "version": "3.11.6"
  }
 },
 "nbformat": 4,
 "nbformat_minor": 5
}
