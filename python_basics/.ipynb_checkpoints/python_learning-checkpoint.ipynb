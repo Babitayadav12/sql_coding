{
 "cells": [
  {
   "cell_type": "markdown",
   "id": "a732dcef-8227-4134-8a1e-2688e52b573f",
   "metadata": {},
   "source": [
    "#### 16/10/23"
   ]
  },
  {
   "cell_type": "raw",
   "id": "3397004b-881e-4b12-ae1d-b3a95719477b",
   "metadata": {},
   "source": [
    "I learnt operations on lists:\n",
    "\n",
    ".Append()= it will add value in the last\n",
    "\n",
    ".clear()=it will clear all the data (but if we want to clear only one value then we have to use \"remove\" function)\n",
    "\n",
    ".pop()= It will pop out the value w.r.t index value (0,1,2,3......) and that value will be deleted from the list.\n",
    "\n",
    ".extend()= It will extend the list means if we want to add some values then we can use it and it will add the numbers in the last.\n",
    "\n",
    ".insert()= In it we "
   ]
  },
  {
   "cell_type": "code",
   "execution_count": 14,
   "id": "97a59612-e03f-4b12-99d5-18e797f54af0",
   "metadata": {},
   "outputs": [],
   "source": [
    "#creating a list of numbers\n",
    "nums=[12,23,3132,432,42,55]"
   ]
  },
  {
   "cell_type": "code",
   "execution_count": 66,
   "id": "b8b47460-ed8f-4f3f-972f-6e6bb7fed698",
   "metadata": {},
   "outputs": [
    {
     "data": {
      "text/plain": [
       "[900, 24, 432, 42, 55, 67, 89, 900]"
      ]
     },
     "execution_count": 66,
     "metadata": {},
     "output_type": "execute_result"
    }
   ],
   "source": [
    "#nums [1] = 24\n",
    "nums"
   ]
  },
  {
   "cell_type": "code",
   "execution_count": 16,
   "id": "5702eff5-5857-48db-9a9a-1b3bd4ec86aa",
   "metadata": {},
   "outputs": [],
   "source": [
    "nums.append(321)"
   ]
  },
  {
   "cell_type": "code",
   "execution_count": 22,
   "id": "6ff5d91f-b037-435b-a631-37028575d463",
   "metadata": {},
   "outputs": [
    {
     "data": {
      "text/plain": [
       "[12, 23, 3132, 432, 42, 55, 321]"
      ]
     },
     "execution_count": 22,
     "metadata": {},
     "output_type": "execute_result"
    }
   ],
   "source": [
    "nums"
   ]
  },
  {
   "cell_type": "code",
   "execution_count": 24,
   "id": "22d2f7e0-a123-4e8b-bb48-d67ca43822e9",
   "metadata": {},
   "outputs": [],
   "source": [
    "nums.remove(12)"
   ]
  },
  {
   "cell_type": "code",
   "execution_count": 25,
   "id": "a2182d73-badc-4e39-9dcb-28ff3f5d7bc6",
   "metadata": {},
   "outputs": [
    {
     "data": {
      "text/plain": [
       "[23, 3132, 432, 42, 55, 321]"
      ]
     },
     "execution_count": 25,
     "metadata": {},
     "output_type": "execute_result"
    }
   ],
   "source": [
    "nums"
   ]
  },
  {
   "cell_type": "code",
   "execution_count": 26,
   "id": "6304d281-745b-46a2-bff7-8cbd029a1665",
   "metadata": {},
   "outputs": [
    {
     "data": {
      "text/plain": [
       "23"
      ]
     },
     "execution_count": 26,
     "metadata": {},
     "output_type": "execute_result"
    }
   ],
   "source": [
    "nums.pop(0)"
   ]
  },
  {
   "cell_type": "code",
   "execution_count": 27,
   "id": "2ed72368-192c-4805-b465-80429e67d473",
   "metadata": {},
   "outputs": [
    {
     "data": {
      "text/plain": [
       "[3132, 432, 42, 55, 321]"
      ]
     },
     "execution_count": 27,
     "metadata": {},
     "output_type": "execute_result"
    }
   ],
   "source": [
    "nums."
   ]
  },
  {
   "cell_type": "code",
   "execution_count": 28,
   "id": "0d3ae5d7-7c05-4a30-a48e-1ceb97f27c9f",
   "metadata": {},
   "outputs": [
    {
     "data": {
      "text/plain": [
       "321"
      ]
     },
     "execution_count": 28,
     "metadata": {},
     "output_type": "execute_result"
    }
   ],
   "source": [
    "# it will pop out the last number of the list and will delete it from the list\n",
    "nums.pop()"
   ]
  },
  {
   "cell_type": "code",
   "execution_count": 30,
   "id": "569b3b64-9757-4b37-aee7-03c3f6777aa2",
   "metadata": {},
   "outputs": [],
   "source": [
    "nums.extend([67,89])"
   ]
  },
  {
   "cell_type": "code",
   "execution_count": 31,
   "id": "0c40495c-cb78-4153-a4b4-44ea123961d3",
   "metadata": {},
   "outputs": [
    {
     "data": {
      "text/plain": [
       "[3132, 432, 42, 55, 67, 89]"
      ]
     },
     "execution_count": 31,
     "metadata": {},
     "output_type": "execute_result"
    }
   ],
   "source": [
    "nums"
   ]
  },
  {
   "cell_type": "code",
   "execution_count": 35,
   "id": "8ba75499-19cb-4acd-8965-f86198201650",
   "metadata": {},
   "outputs": [],
   "source": [
    "nums.insert(0,900)\n"
   ]
  },
  {
   "cell_type": "code",
   "execution_count": 36,
   "id": "bc88c074-431b-4f2e-acaf-2245b31b0372",
   "metadata": {},
   "outputs": [
    {
     "data": {
      "text/plain": [
       "[900, 3132, 432, 42, 55, 67, 89, 900]"
      ]
     },
     "execution_count": 36,
     "metadata": {},
     "output_type": "execute_result"
    }
   ],
   "source": [
    "nums"
   ]
  },
  {
   "cell_type": "code",
   "execution_count": 56,
   "id": "47506fe1-002c-4651-a28e-dec67b4d77fb",
   "metadata": {},
   "outputs": [],
   "source": [
    "# inserting a number into a list present in another list\n",
    "alpha= [22,33,44,55,66]\n",
    "beta= ['ab', 'bc',alpha]\n"
   ]
  },
  {
   "cell_type": "code",
   "execution_count": 58,
   "id": "fe2a5f45-b753-4b87-80c2-5abe402f53cf",
   "metadata": {},
   "outputs": [
    {
     "data": {
      "text/plain": [
       "['ab', 'bc', [22, 33, 44, 55, 66]]"
      ]
     },
     "execution_count": 58,
     "metadata": {},
     "output_type": "execute_result"
    }
   ],
   "source": [
    "beta"
   ]
  },
  {
   "cell_type": "code",
   "execution_count": 40,
   "id": "6b338ac0-5f95-42da-b6f8-f6e9fc73a33b",
   "metadata": {},
   "outputs": [],
   "source": [
    "beta[2].append(99)"
   ]
  },
  {
   "cell_type": "code",
   "execution_count": 41,
   "id": "e190c63b-83d4-4661-9a02-03732ecfc4f5",
   "metadata": {},
   "outputs": [
    {
     "data": {
      "text/plain": [
       "['ab', 'bc', [22, 33, 44, 55, 66, 99]]"
      ]
     },
     "execution_count": 41,
     "metadata": {},
     "output_type": "execute_result"
    }
   ],
   "source": [
    "beta"
   ]
  },
  {
   "cell_type": "code",
   "execution_count": 59,
   "id": "8d3a1bcf-b1d4-48ea-87b7-11ab49c21c97",
   "metadata": {},
   "outputs": [
    {
     "data": {
      "text/plain": [
       "(44, 66)"
      ]
     },
     "execution_count": 59,
     "metadata": {},
     "output_type": "execute_result"
    }
   ],
   "source": [
    "beta[2].pop(2),beta[2].pop(3)"
   ]
  },
  {
   "cell_type": "code",
   "execution_count": 60,
   "id": "cf7eeaa6-59b8-4b69-9ff8-44f328bce373",
   "metadata": {},
   "outputs": [
    {
     "data": {
      "text/plain": [
       "['ab', 'bc', [22, 33, 55]]"
      ]
     },
     "execution_count": 60,
     "metadata": {},
     "output_type": "execute_result"
    }
   ],
   "source": [
    "beta"
   ]
  },
  {
   "cell_type": "code",
   "execution_count": 67,
   "id": "b118c209-84c2-4401-a42e-b0d8df61d042",
   "metadata": {},
   "outputs": [],
   "source": [
    "tup= (12,14,16,18)"
   ]
  },
  {
   "cell_type": "code",
   "execution_count": 68,
   "id": "e1ea88ea-0663-48b2-b639-93e2445d5dbb",
   "metadata": {},
   "outputs": [
    {
     "data": {
      "text/plain": [
       "(12, 14, 16, 18)"
      ]
     },
     "execution_count": 68,
     "metadata": {},
     "output_type": "execute_result"
    }
   ],
   "source": [
    "tup"
   ]
  },
  {
   "cell_type": "code",
   "execution_count": 69,
   "id": "2f6a3d27-3ff9-4591-b366-0bfad6ce1910",
   "metadata": {},
   "outputs": [
    {
     "data": {
      "text/plain": [
       "14"
      ]
     },
     "execution_count": 69,
     "metadata": {},
     "output_type": "execute_result"
    }
   ],
   "source": [
    "tup[1]"
   ]
  },
  {
   "cell_type": "code",
   "execution_count": 70,
   "id": "94b0c1ca-6d13-46d6-9df8-b5bf0315612e",
   "metadata": {},
   "outputs": [
    {
     "ename": "TypeError",
     "evalue": "'tuple' object does not support item assignment",
     "output_type": "error",
     "traceback": [
      "\u001b[1;31m---------------------------------------------------------------------------\u001b[0m",
      "\u001b[1;31mTypeError\u001b[0m                                 Traceback (most recent call last)",
      "Cell \u001b[1;32mIn[70], line 1\u001b[0m\n\u001b[1;32m----> 1\u001b[0m \u001b[43mtup\u001b[49m\u001b[43m[\u001b[49m\u001b[38;5;241;43m1\u001b[39;49m\u001b[43m]\u001b[49m\u001b[38;5;241m=\u001b[39m\u001b[38;5;241m15\u001b[39m\n",
      "\u001b[1;31mTypeError\u001b[0m: 'tuple' object does not support item assignment"
     ]
    }
   ],
   "source": [
    "tup[1]=15"
   ]
  },
  {
   "cell_type": "code",
   "execution_count": 71,
   "id": "d7eaff43-99d2-450f-9dbb-4da0178d0961",
   "metadata": {},
   "outputs": [],
   "source": [
    "nums=[25,36,95,14,12,26]"
   ]
  },
  {
   "cell_type": "code",
   "execution_count": 72,
   "id": "6c3cc95e-82f4-4b55-8690-49f578cac5f6",
   "metadata": {},
   "outputs": [
    {
     "data": {
      "text/plain": [
       "[25, 36, 95, 14, 12, 26]"
      ]
     },
     "execution_count": 72,
     "metadata": {},
     "output_type": "execute_result"
    }
   ],
   "source": [
    "nums\n"
   ]
  },
  {
   "cell_type": "code",
   "execution_count": 75,
   "id": "252f3b7c-cb41-4562-bcab-f7ba8e3b0f64",
   "metadata": {},
   "outputs": [
    {
     "ename": "TypeError",
     "evalue": "list.remove() takes exactly one argument (3 given)",
     "output_type": "error",
     "traceback": [
      "\u001b[1;31m---------------------------------------------------------------------------\u001b[0m",
      "\u001b[1;31mTypeError\u001b[0m                                 Traceback (most recent call last)",
      "Cell \u001b[1;32mIn[75], line 1\u001b[0m\n\u001b[1;32m----> 1\u001b[0m \u001b[43mnums\u001b[49m\u001b[38;5;241;43m.\u001b[39;49m\u001b[43mremove\u001b[49m\u001b[43m(\u001b[49m\u001b[38;5;241;43m95\u001b[39;49m\u001b[43m,\u001b[49m\u001b[38;5;241;43m14\u001b[39;49m\u001b[43m,\u001b[49m\u001b[38;5;241;43m12\u001b[39;49m\u001b[43m)\u001b[49m\n",
      "\u001b[1;31mTypeError\u001b[0m: list.remove() takes exactly one argument (3 given)"
     ]
    }
   ],
   "source": [
    "nums.remove(95,14,12)"
   ]
  },
  {
   "cell_type": "code",
   "execution_count": null,
   "id": "f95a93d0-1eb7-4481-a818-dd0a10fc4dae",
   "metadata": {},
   "outputs": [],
   "source": []
  },
  {
   "cell_type": "code",
   "execution_count": 74,
   "id": "8c21f62b-9d15-4a57-9ace-d890c4ad1e81",
   "metadata": {},
   "outputs": [
    {
     "data": {
      "text/plain": [
       "[25, 36, 14, 12, 26]"
      ]
     },
     "execution_count": 74,
     "metadata": {},
     "output_type": "execute_result"
    }
   ],
   "source": [
    "nums"
   ]
  },
  {
   "cell_type": "code",
   "execution_count": null,
   "id": "330ffc5a-45ec-4133-beb4-1e26d5d219a0",
   "metadata": {},
   "outputs": [],
   "source": []
  }
 ],
 "metadata": {
  "kernelspec": {
   "display_name": "Python 3 (ipykernel)",
   "language": "python",
   "name": "python3"
  },
  "language_info": {
   "codemirror_mode": {
    "name": "ipython",
    "version": 3
   },
   "file_extension": ".py",
   "mimetype": "text/x-python",
   "name": "python",
   "nbconvert_exporter": "python",
   "pygments_lexer": "ipython3",
   "version": "3.11.6"
  }
 },
 "nbformat": 4,
 "nbformat_minor": 5
}
